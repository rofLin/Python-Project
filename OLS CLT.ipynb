{
 "cells": [
  {
   "cell_type": "code",
   "execution_count": 2,
   "metadata": {},
   "outputs": [],
   "source": [
    "import statsmodels.api as sm\n",
    "import numpy as np\n",
    "import matplotlib.pyplot as plt\n",
    "import scipy.stats as stats\n",
    "import math\n",
    "(alpha,beta1,beta2)=(1,1,-2)\n",
    "\n",
    "x0 = np.ones(100)\n",
    "x0 = np.reshape(x0,(100,1))\n",
    "x1 =np.random.normal(loc=2,scale=1,size=(100,1))\n",
    "x2 =np.random.poisson(4,(100,1))\n",
    "eps = np.random.normal(loc=0,scale=1,size=(100,1))\n",
    "y=alpha+beta1*x1+beta2*x2+eps\n"
   ]
  },
  {
   "cell_type": "code",
   "execution_count": 3,
   "metadata": {},
   "outputs": [
    {
     "name": "stdout",
     "output_type": "stream",
     "text": [
      "[[ 0.69626864]\n",
      " [ 0.97081865]\n",
      " [-1.89883001]]\n"
     ]
    }
   ],
   "source": [
    "X=np.concatenate((x0,x1,x2),axis=1)\n",
    "XT=np.transpose(X)\n",
    "\n",
    "XTX = (np.dot(XT,X))\n",
    "XTXinv = np.linalg.inv(XTX)\n",
    "XTy = (np.dot(XT,y))\n",
    "beta_hat = np.dot(XTXinv,XTy)\n",
    "\n",
    "print (beta_hat)\n"
   ]
  },
  {
   "cell_type": "code",
   "execution_count": 4,
   "metadata": {},
   "outputs": [
    {
     "name": "stdout",
     "output_type": "stream",
     "text": [
      "alpha_hat is [0.69626864]\n",
      "beta1_hat is [0.97081865]\n",
      "beta2_hat is [-1.89883001]\n"
     ]
    }
   ],
   "source": [
    "print('alpha_hat is', beta_hat[0])\n",
    "print('beta1_hat is', beta_hat[1])\n",
    "print('beta2_hat is', beta_hat[2])"
   ]
  },
  {
   "cell_type": "code",
   "execution_count": 5,
   "metadata": {},
   "outputs": [
    {
     "name": "stdout",
     "output_type": "stream",
     "text": [
      "[[ 8.87009132e-02 -2.05309262e-02 -1.04719477e-02]\n",
      " [-2.05309262e-02  1.09570727e-02 -9.13365011e-05]\n",
      " [-1.04719477e-02 -9.13365011e-05  2.81639376e-03]]\n"
     ]
    }
   ],
   "source": [
    "Cov = XTXinv\n",
    "print (Cov)"
   ]
  },
  {
   "cell_type": "code",
   "execution_count": 6,
   "metadata": {},
   "outputs": [
    {
     "name": "stdout",
     "output_type": "stream",
     "text": [
      "[[ 0.6783803 ]\n",
      " [ 1.00207646]\n",
      " [-1.91875751]]\n",
      "[[ 5.10024888e-02 -5.14771935e-05 -9.96885192e-03]\n",
      " [-5.14771935e-05  7.83908730e-06  3.15911609e-07]\n",
      " [-9.96885192e-03  3.15911609e-07  2.44285033e-03]]\n",
      "variance of theta_hat become closer to zero.\n"
     ]
    }
   ],
   "source": [
    "#3\n",
    "x0 = np.ones(100)\n",
    "x0 = np.reshape(x0,(100,1))\n",
    "x1 =np.random.normal(loc=2,scale=36,size=(100,1))\n",
    "x2 =np.random.poisson(4,(100,1))\n",
    "eps = np.random.normal(loc=0,scale=1,size=(100,1))\n",
    "y=alpha+beta1*x1+beta2*x2+eps\n",
    "\n",
    "X=np.concatenate((x0,x1,x2),axis=1)\n",
    "XT=np.transpose(X)\n",
    "\n",
    "XTX = (np.dot(XT,X))\n",
    "XTXinv = np.linalg.inv(XTX)\n",
    "XTy = (np.dot(XT,y))\n",
    "beta_hat = np.dot(XTXinv,XTy)\n",
    "\n",
    "print (beta_hat)\n",
    "\n",
    "Cov2 = XTXinv\n",
    "print (Cov2)\n",
    "print ('variance of theta_hat become closer to zero.')\n"
   ]
  },
  {
   "cell_type": "code",
   "execution_count": 7,
   "metadata": {},
   "outputs": [],
   "source": [
    "i = 1\n",
    "beta = [ ]\n",
    "beya =np.array()\n",
    "(alpha,beta1,beta2)=(1,1,-2)\n",
    "for i in range(1,1000):\n",
    "    x0 = np.ones(100)\n",
    "    x0 = np.reshape(x0,(100,1))\n",
    "    x1 =np.random.normal(loc=2,scale=1,size=(100,1))\n",
    "    x2 =np.random.poisson(4,(100,1))\n",
    "    eps = np.random.normal(loc=0,scale=1,size=(100,1))\n",
    "    y=alpha+beta1*x1+beta2*x2+eps\n",
    "    X=np.concatenate((x0,x1,x2),axis=1)\n",
    "    XT=np.transpose(X)\n",
    "    XTX = (np.dot(XT,X))\n",
    "    XTXinv = np.linalg.inv(XTX)\n",
    "    XTy = (np.dot(XT,y))\n",
    "    beta_hat = np.dot(XTXinv,XTy)\n",
    "    beta.append(beta_hat)\n",
    "    i=i+1"
   ]
  },
  {
   "cell_type": "code",
   "execution_count": 8,
   "metadata": {
    "scrolled": false
   },
   "outputs": [
    {
     "name": "stdout",
     "output_type": "stream",
     "text": [
      "[[[ 1.51619727]\n",
      "  [ 0.98075953]\n",
      "  [-2.08582281]]\n",
      "\n",
      " [[ 1.22095198]\n",
      "  [ 0.86659732]\n",
      "  [-2.00324763]]\n",
      "\n",
      " [[ 1.05764218]\n",
      "  [ 0.98977638]\n",
      "  [-2.00755767]]\n",
      "\n",
      " ...\n",
      "\n",
      " [[ 0.65964156]\n",
      "  [ 1.07387403]\n",
      "  [-1.97293441]]\n",
      "\n",
      " [[ 0.87000983]\n",
      "  [ 1.05018493]\n",
      "  [-2.01582532]]\n",
      "\n",
      " [[ 1.08244391]\n",
      "  [ 1.04362786]\n",
      "  [-2.03632632]]]\n"
     ]
    }
   ],
   "source": [
    "betaA = np.asarray(beta)\n",
    "print(betaA)\n",
    "betaB = np.transpose(betaA)\n",
    "a = betaB[0]\n",
    "\n",
    "\n",
    "#why is shape of betaA and betaB is 3-D"
   ]
  },
  {
   "cell_type": "code",
   "execution_count": 44,
   "metadata": {},
   "outputs": [],
   "source": [
    "n = 1000\n",
    "Q = XTX/n\n",
    "Qinv = np.linalg.inv(Q)\n",
    "Var = Qinv/n"
   ]
  },
  {
   "cell_type": "code",
   "execution_count": 46,
   "metadata": {},
   "outputs": [
    {
     "data": {
      "image/png": "[encoded data removed]",
      "text/plain": [
       "<Figure size 432x288 with 2 Axes>"
      ]
     },
     "metadata": {
      "needs_background": "light"
     },
     "output_type": "display_data"
    }
   ],
   "source": [
    "mu_a = 1\n",
    "var_a = Var.item((0,0))\n",
    "sigma_a = math.sqrt(var_a)\n",
    "l = np.linspace(mu_alpha - 3*sigma_a, mu_a + 3*sigma_a, 100)\n",
    "\n",
    "fig , ax1 = plt.subplots()\n",
    "ax1.hist(a[0])\n",
    "ax2 = ax1.twinx()\n",
    "ax2.plot(l, stats.norm.pdf(l, mu_alpha, sigma_alpha),color='orange')\n",
    "plt.title('histogram of alpha hat')\n",
    "plt.show()"
   ]
  },
  {
   "cell_type": "code",
   "execution_count": 52,
   "metadata": {},
   "outputs": [
    {
     "data": {
      "image/png": "[encoded data removed]",
      "text/plain": [
       "<Figure size 432x288 with 2 Axes>"
      ]
     },
     "metadata": {
      "needs_background": "light"
     },
     "output_type": "display_data"
    }
   ],
   "source": [
    "mu_b1 = 1\n",
    "var_b1 = Var.item((1,1))\n",
    "sigma_b1 = math.sqrt(var_b1)\n",
    "l = np.linspace(mu_b1 - 3*sigma_b1, mu_b1 + 3*sigma_b1, 100)\n",
    "\n",
    "fig ,ax1 = plt.subplots()\n",
    "ax1.hist(a[1])\n",
    "ax2 = ax1.twinx()\n",
    "ax2.plot(l, stats.norm.pdf(l,mu_b1,sigma_b1),color = 'orange')\n",
    "\n",
    "plt.title('histogram of beta1')\n",
    "plt.show()"
   ]
  },
  {
   "cell_type": "code",
   "execution_count": 58,
   "metadata": {},
   "outputs": [
    {
     "data": {
      "image/png": "[encoded data removed]",
      "text/plain": [
       "<Figure size 432x288 with 2 Axes>"
      ]
     },
     "metadata": {
      "needs_background": "light"
     },
     "output_type": "display_data"
    }
   ],
   "source": [
    "mu_b2 = -2\n",
    "var_b2 = Var.item((2,2))\n",
    "sigma_b2 = math.sqrt(var_b2)\n",
    "l = np.linspace(mu_b2 - 3*sigma_b2, mu_b2 + 3*sigma_b2, 100)\n",
    "\n",
    "fig, ax1 = plt.subplots()\n",
    "ax1.hist(a[2])\n",
    "ax2 = ax1.twinx()\n",
    "ax2.plot (l, stats.norm.pdf(l,mu_b2,sigma_b2),color = 'orange')\n",
    "plt.title('histogram of beta2')\n",
    "plt.show()"
   ]
  },
  {
   "cell_type": "code",
   "execution_count": null,
   "metadata": {
    "scrolled": true
   },
   "outputs": [],
   "source": []
  },
  {
   "cell_type": "code",
   "execution_count": null,
   "metadata": {},
   "outputs": [],
   "source": []
  }
 ],
 "metadata": {
  "kernelspec": {
   "display_name": "Python 3",
   "language": "python",
   "name": "python3"
  },
  "language_info": {
   "codemirror_mode": {
    "name": "ipython",
    "version": 3
   },
   "file_extension": ".py",
   "mimetype": "text/x-python",
   "name": "python",
   "nbconvert_exporter": "python",
   "pygments_lexer": "ipython3",
   "version": "3.7.1"
  }
 },
 "nbformat": 4,
 "nbformat_minor": 2
}
