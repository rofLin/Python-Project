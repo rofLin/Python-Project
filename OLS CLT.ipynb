{
 "cells": [
  {
   "cell_type": "code",
   "execution_count": 1,
   "metadata": {},
   "outputs": [
    {
     "name": "stderr",
     "output_type": "stream",
     "text": [
      "D:\\Anaconda\\lib\\site-packages\\statsmodels\\compat\\pandas.py:49: FutureWarning: The Panel class is removed from pandas. Accessing it from the top-level namespace will also be removed in the next version\n",
      "  data_klasses = (pandas.Series, pandas.DataFrame, pandas.Panel)\n"
     ]
    }
   ],
   "source": [
    "import statsmodels.api as sm\n",
    "import numpy as np\n",
    "import matplotlib.pyplot as plt\n",
    "import scipy.stats as stats\n",
    "import math\n",
    "(alpha,beta1,beta2)=(1,1,-2)\n",
    "\n",
    "x0 = np.ones(100)\n",
    "x0 = np.reshape(x0,(100,1))\n",
    "x1 =np.random.normal(loc=2,scale=1,size=(100,1))\n",
    "x2 =np.random.poisson(4,(100,1))\n",
    "eps = np.random.normal(loc=0,scale=1,size=(100,1))\n",
    "y=alpha+beta1*x1+beta2*x2+eps\n"
   ]
  },
  {
   "cell_type": "code",
   "execution_count": 2,
   "metadata": {},
   "outputs": [
    {
     "name": "stdout",
     "output_type": "stream",
     "text": [
      "[[ 1.00040471]\n",
      " [ 1.04065135]\n",
      " [-1.97879789]]\n"
     ]
    }
   ],
   "source": [
    "X=np.concatenate((x0,x1,x2),axis=1)\n",
    "XT=np.transpose(X)\n",
    "\n",
    "XTX = (np.dot(XT,X))\n",
    "XTXinv = np.linalg.inv(XTX)\n",
    "XTy = (np.dot(XT,y))\n",
    "beta_hat = np.dot(XTXinv,XTy)\n",
    "\n",
    "print (beta_hat)\n"
   ]
  },
  {
   "cell_type": "code",
   "execution_count": 3,
   "metadata": {},
   "outputs": [
    {
     "name": "stdout",
     "output_type": "stream",
     "text": [
      "alpha_hat is [1.00040471]\n",
      "beta1_hat is [1.04065135]\n",
      "beta2_hat is [-1.97879789]\n"
     ]
    }
   ],
   "source": [
    "print('alpha_hat is', beta_hat[0])\n",
    "print('beta1_hat is', beta_hat[1])\n",
    "print('beta2_hat is', beta_hat[2])"
   ]
  },
  {
   "cell_type": "code",
   "execution_count": 4,
   "metadata": {},
   "outputs": [
    {
     "name": "stdout",
     "output_type": "stream",
     "text": [
      "[[ 0.0958457  -0.0217555  -0.01054145]\n",
      " [-0.0217555   0.0107996  -0.00018506]\n",
      " [-0.01054145 -0.00018506  0.00283804]]\n"
     ]
    }
   ],
   "source": [
    "Cov = XTXinv\n",
    "print (Cov)"
   ]
  },
  {
   "cell_type": "code",
   "execution_count": 5,
   "metadata": {},
   "outputs": [
    {
     "name": "stdout",
     "output_type": "stream",
     "text": [
      "[[ 0.79282938]\n",
      " [ 1.00543085]\n",
      " [-1.96460259]]\n",
      "[[ 6.16173777e-02  9.09853417e-05 -1.19602737e-02]\n",
      " [ 9.09853417e-05  8.62564023e-06 -2.47481164e-05]\n",
      " [-1.19602737e-02 -2.47481164e-05  2.77290509e-03]]\n",
      "variance of theta_hat become closer to zero.\n"
     ]
    }
   ],
   "source": [
    "#3\n",
    "x0 = np.ones(100)\n",
    "x0 = np.reshape(x0,(100,1))\n",
    "x1 =np.random.normal(loc=2,scale=36,size=(100,1))\n",
    "x2 =np.random.poisson(4,(100,1))\n",
    "eps = np.random.normal(loc=0,scale=1,size=(100,1))\n",
    "y=alpha+beta1*x1+beta2*x2+eps\n",
    "\n",
    "X=np.concatenate((x0,x1,x2),axis=1)\n",
    "XT=np.transpose(X)\n",
    "\n",
    "XTX = (np.dot(XT,X))\n",
    "XTXinv = np.linalg.inv(XTX)\n",
    "XTy = (np.dot(XT,y))\n",
    "beta_hat = np.dot(XTXinv,XTy)\n",
    "\n",
    "print (beta_hat)\n",
    "\n",
    "Cov2 = XTXinv\n",
    "print (Cov2)\n",
    "print ('variance of theta_hat become closer to zero.')\n"
   ]
  },
  {
   "cell_type": "code",
   "execution_count": 6,
   "metadata": {},
   "outputs": [],
   "source": [
    "i = 1\n",
    "beta = [ ]\n",
    "(alpha,beta1,beta2)=(1,1,-2)\n",
    "for i in range(1,1000):\n",
    "    x0 = np.ones(100)\n",
    "    x0 = np.reshape(x0,(100,1))\n",
    "    x1 =np.random.normal(loc=2,scale=1,size=(100,1))\n",
    "    x2 =np.random.poisson(4,(100,1))\n",
    "    eps = np.random.normal(loc=0,scale=1,size=(100,1))\n",
    "    y=alpha+beta1*x1+beta2*x2+eps\n",
    "    X=np.concatenate((x0,x1,x2),axis=1)\n",
    "    XT=np.transpose(X)\n",
    "    XTX = (np.dot(XT,X))\n",
    "    XTXinv = np.linalg.inv(XTX)\n",
    "    XTy = (np.dot(XT,y))\n",
    "    beta_hat = np.dot(XTXinv,XTy)\n",
    "    beta.append(beta_hat)\n",
    "    i=i+1"
   ]
  },
  {
   "cell_type": "code",
   "execution_count": 7,
   "metadata": {
    "scrolled": false
   },
   "outputs": [
    {
     "name": "stdout",
     "output_type": "stream",
     "text": [
      "[[[ 0.88061219]\n",
      "  [ 1.20333392]\n",
      "  [-2.05578499]]\n",
      "\n",
      " [[ 0.82071065]\n",
      "  [ 1.03500989]\n",
      "  [-1.97413312]]\n",
      "\n",
      " [[ 1.25026437]\n",
      "  [ 1.00554861]\n",
      "  [-2.06116271]]\n",
      "\n",
      " ...\n",
      "\n",
      " [[ 0.9615678 ]\n",
      "  [ 1.11375765]\n",
      "  [-2.06532627]]\n",
      "\n",
      " [[ 1.34851343]\n",
      "  [ 0.91791501]\n",
      "  [-1.99582959]]\n",
      "\n",
      " [[ 1.39834857]\n",
      "  [ 0.89755681]\n",
      "  [-2.04188862]]]\n"
     ]
    }
   ],
   "source": [
    "betaA = np.asarray(beta)\n",
    "print(betaA)\n",
    "betaB = np.transpose(betaA)\n",
    "a = betaB[0]\n",
    "\n",
    "\n",
    "#why is shape of betaA and betaB is 3-D"
   ]
  },
  {
   "cell_type": "code",
   "execution_count": 8,
   "metadata": {},
   "outputs": [],
   "source": [
    "n = 1000\n",
    "Q = XTX/n\n",
    "Qinv = np.linalg.inv(Q)\n",
    "Var = Qinv/n"
   ]
  },
  {
   "cell_type": "code",
   "execution_count": 10,
   "metadata": {},
   "outputs": [
    {
     "data": {
      "image/png": "[encoded data removed]",
      "text/plain": [
       "<Figure size 432x288 with 2 Axes>"
      ]
     },
     "metadata": {
      "needs_background": "light"
     },
     "output_type": "display_data"
    }
   ],
   "source": [
    "mu_alpha = 1\n",
    "var_alpha = Var.item((0,0))\n",
    "sigma_alpha = math.sqrt(var_a)\n",
    "l = np.linspace(mu_alpha - 3*sigma_a, mu_a + 3*sigma_a, 100)\n",
    "\n",
    "fig , ax1 = plt.subplots()\n",
    "ax1.hist(a[0])\n",
    "ax2 = ax1.twinx()\n",
    "ax2.plot(l, stats.norm.pdf(l, mu_alpha, sigma_alpha),color='orange')\n",
    "plt.title('histogram of alpha hat')\n",
    "plt.show()"
   ]
  },
  {
   "cell_type": "code",
   "execution_count": 11,
   "metadata": {},
   "outputs": [
    {
     "data": {
      "image/png": "[encoded data removed]",
      "text/plain": [
       "<Figure size 432x288 with 2 Axes>"
      ]
     },
     "metadata": {
      "needs_background": "light"
     },
     "output_type": "display_data"
    }
   ],
   "source": [
    "mu_b1 = 1\n",
    "var_b1 = Var.item((1,1))\n",
    "sigma_b1 = math.sqrt(var_b1)\n",
    "l = np.linspace(mu_b1 - 3*sigma_b1, mu_b1 + 3*sigma_b1, 100)\n",
    "\n",
    "fig ,ax1 = plt.subplots()\n",
    "ax1.hist(a[1])\n",
    "ax2 = ax1.twinx()\n",
    "ax2.plot(l, stats.norm.pdf(l,mu_b1,sigma_b1),color = 'orange')\n",
    "\n",
    "plt.title('histogram of beta1')\n",
    "plt.show()"
   ]
  },
  {
   "cell_type": "code",
   "execution_count": 12,
   "metadata": {},
   "outputs": [
    {
     "data": {
      "image/png": "[encoded data removed]",
      "text/plain": [
       "<Figure size 432x288 with 2 Axes>"
      ]
     },
     "metadata": {
      "needs_background": "light"
     },
     "output_type": "display_data"
    }
   ],
   "source": [
    "mu_b2 = -2\n",
    "var_b2 = Var.item((2,2))\n",
    "sigma_b2 = math.sqrt(var_b2)\n",
    "l = np.linspace(mu_b2 - 3*sigma_b2, mu_b2 + 3*sigma_b2, 100)\n",
    "\n",
    "fig, ax1 = plt.subplots()\n",
    "ax1.hist(a[2])\n",
    "ax2 = ax1.twinx()\n",
    "ax2.plot (l, stats.norm.pdf(l,mu_b2,sigma_b2),color = 'orange')\n",
    "plt.title('histogram of beta2')\n",
    "plt.show()"
   ]
  },
  {
   "cell_type": "code",
   "execution_count": null,
   "metadata": {
    "scrolled": true
   },
   "outputs": [],
   "source": []
  },
  {
   "cell_type": "code",
   "execution_count": null,
   "metadata": {},
   "outputs": [],
   "source": []
  }
 ],
 "metadata": {
  "kernelspec": {
   "display_name": "Python 3",
   "language": "python",
   "name": "python3"
  },
  "language_info": {
   "codemirror_mode": {
    "name": "ipython",
    "version": 3
   },
   "file_extension": ".py",
   "mimetype": "text/x-python",
   "name": "python",
   "nbconvert_exporter": "python",
   "pygments_lexer": "ipython3",
   "version": "3.7.1"
  }
 },
 "nbformat": 4,
 "nbformat_minor": 2
}
