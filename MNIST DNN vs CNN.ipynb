{
 "cells": [
  {
   "cell_type": "code",
   "execution_count": 1,
   "metadata": {},
   "outputs": [],
   "source": [
    "import keras\n",
    "from keras.datasets import mnist\n",
    "(X_train, y_train), (X_test, y_test) = mnist.load_data()"
   ]
  },
  {
   "cell_type": "code",
   "execution_count": 14,
   "metadata": {},
   "outputs": [
    {
     "data": {
      "image/png": "[encoded data removed]",
      "text/plain": [
       "<Figure size 432x288 with 9 Axes>"
      ]
     },
     "metadata": {},
     "output_type": "display_data"
    }
   ],
   "source": [
    "import matplotlib.pyplot as plt\n",
    "fig = plt.figure()\n",
    "for i in range(9):\n",
    "  plt.subplot(3,3,i+1)\n",
    "  plt.tight_layout()\n",
    "  plt.imshow(X_train[i], cmap='gray', interpolation='none')\n",
    "  plt.title(\"Digit: {}\".format(y_train[i]))\n",
    "  plt.xticks([])\n",
    "  plt.yticks([])"
   ]
  },
  {
   "cell_type": "code",
   "execution_count": 15,
   "metadata": {},
   "outputs": [
    {
     "name": "stdout",
     "output_type": "stream",
     "text": [
      "X_train shape: (60000, 28, 28)\n"
     ]
    }
   ],
   "source": [
    "X_train = X_train.astype('float32')\n",
    "X_test = X_test.astype('float32')\n",
    "X_train /= 255\n",
    "X_test /= 255\n",
    "print('X_train shape:', X_train.shape)"
   ]
  },
  {
   "cell_type": "code",
   "execution_count": 21,
   "metadata": {},
   "outputs": [],
   "source": [
    "X_train = X_train.reshape((X_train.shape[0], 28, 28, 1))\n",
    "X_test = X_test.reshape((X_test.shape[0], 28, 28, 1))"
   ]
  },
  {
   "cell_type": "code",
   "execution_count": 16,
   "metadata": {},
   "outputs": [],
   "source": [
    "num_category = 10\n",
    "# convert class vectors to binary class matrices\n",
    "y_train = keras.utils.to_categorical(y_train, num_category)\n",
    "y_test = keras.utils.to_categorical(y_test, num_category)"
   ]
  },
  {
   "cell_type": "code",
   "execution_count": 36,
   "metadata": {},
   "outputs": [],
   "source": [
    "#Version 1\n",
    "#https://sakura-gh.github.io/ML-notes/ML-notes-html/11_Convolutional-Neural-Network-part1.html\n",
    "import numpy\n",
    "from keras.models import Sequential\n",
    "from keras.layers import Conv2D\n",
    "from keras.layers import MaxPooling2D\n",
    "from keras.layers import Dropout\n",
    "from keras.layers import Flatten\n",
    "from keras.utils import np_utils\n",
    "\n",
    "##model building\n",
    "model = Sequential()\n",
    "#convolutional layer with rectified linear unit activation\n",
    "model.add(Conv2D(32, kernel_size=(3, 3),\n",
    "                 activation='relu',\n",
    "                 input_shape = (28, 28, 1)))\n",
    "#32 convolution filters used each of size 3x3\n",
    "model.add(MaxPooling2D(pool_size=(2, 2)))\n",
    "#randomly turn neurons on and off to improve convergence\n",
    "model.add(Dropout(0.25))\n",
    "#flatten since too many dimensions, we only want a classification output\n",
    "model.add(Flatten())\n",
    "#fully connected to get all relevant data\n",
    "model.add(Dense(128, activation='relu'))\n",
    "#one more dropout for convergence' sake :) \n",
    "model.add(Dropout(0.5))\n",
    "#output a softmax to squash the matrix into output probabilities\n",
    "model.add(Dense(num_category, activation='softmax'))\n",
    "model.compile(loss = 'categorical_crossentropy',\n",
    "             optimizer = 'adam', metrics = ['accuracy'])"
   ]
  },
  {
   "cell_type": "code",
   "execution_count": 37,
   "metadata": {},
   "outputs": [
    {
     "name": "stdout",
     "output_type": "stream",
     "text": [
      "Model: \"sequential_8\"\n",
      "_________________________________________________________________\n",
      "Layer (type)                 Output Shape              Param #   \n",
      "=================================================================\n",
      "conv2d_6 (Conv2D)            (None, 26, 26, 32)        320       \n",
      "_________________________________________________________________\n",
      "max_pooling2d_4 (MaxPooling2 (None, 13, 13, 32)        0         \n",
      "_________________________________________________________________\n",
      "dropout_7 (Dropout)          (None, 13, 13, 32)        0         \n",
      "_________________________________________________________________\n",
      "flatten_3 (Flatten)          (None, 5408)              0         \n",
      "_________________________________________________________________\n",
      "dense_6 (Dense)              (None, 128)               692352    \n",
      "_________________________________________________________________\n",
      "dropout_8 (Dropout)          (None, 128)               0         \n",
      "_________________________________________________________________\n",
      "dense_7 (Dense)              (None, 10)                1290      \n",
      "=================================================================\n",
      "Total params: 693,962\n",
      "Trainable params: 693,962\n",
      "Non-trainable params: 0\n",
      "_________________________________________________________________\n"
     ]
    }
   ],
   "source": [
    "model.summary()"
   ]
  },
  {
   "cell_type": "code",
   "execution_count": 38,
   "metadata": {},
   "outputs": [
    {
     "name": "stdout",
     "output_type": "stream",
     "text": [
      "Epoch 1/20\n",
      "600/600 [==============================] - 3s 5ms/step - loss: 0.3227 - accuracy: 0.9029\n",
      "Epoch 2/20\n",
      "600/600 [==============================] - 3s 5ms/step - loss: 0.1299 - accuracy: 0.9613\n",
      "Epoch 3/20\n",
      "600/600 [==============================] - 3s 5ms/step - loss: 0.1000 - accuracy: 0.9697\n",
      "Epoch 4/20\n",
      "600/600 [==============================] - 3s 5ms/step - loss: 0.0822 - accuracy: 0.9754\n",
      "Epoch 5/20\n",
      "600/600 [==============================] - 3s 5ms/step - loss: 0.0752 - accuracy: 0.9767\n",
      "Epoch 6/20\n",
      "600/600 [==============================] - 3s 5ms/step - loss: 0.0673 - accuracy: 0.9790\n",
      "Epoch 7/20\n",
      "600/600 [==============================] - 3s 5ms/step - loss: 0.0576 - accuracy: 0.9822\n",
      "Epoch 8/20\n",
      "600/600 [==============================] - 3s 5ms/step - loss: 0.0512 - accuracy: 0.9833\n",
      "Epoch 9/20\n",
      "600/600 [==============================] - 3s 5ms/step - loss: 0.0484 - accuracy: 0.9842\n",
      "Epoch 10/20\n",
      "600/600 [==============================] - 3s 5ms/step - loss: 0.0445 - accuracy: 0.9855\n",
      "Epoch 11/20\n",
      "600/600 [==============================] - 3s 5ms/step - loss: 0.0418 - accuracy: 0.9867\n",
      "Epoch 12/20\n",
      "600/600 [==============================] - 3s 5ms/step - loss: 0.0399 - accuracy: 0.9869\n",
      "Epoch 13/20\n",
      "600/600 [==============================] - 3s 5ms/step - loss: 0.0354 - accuracy: 0.9881\n",
      "Epoch 14/20\n",
      "600/600 [==============================] - 3s 5ms/step - loss: 0.0354 - accuracy: 0.9881\n",
      "Epoch 15/20\n",
      "600/600 [==============================] - 3s 5ms/step - loss: 0.0322 - accuracy: 0.9891\n",
      "Epoch 16/20\n",
      "600/600 [==============================] - 3s 5ms/step - loss: 0.0308 - accuracy: 0.9899\n",
      "Epoch 17/20\n",
      "600/600 [==============================] - 3s 5ms/step - loss: 0.0289 - accuracy: 0.9903\n",
      "Epoch 18/20\n",
      "600/600 [==============================] - 3s 5ms/step - loss: 0.0274 - accuracy: 0.9904\n",
      "Epoch 19/20\n",
      "600/600 [==============================] - 3s 5ms/step - loss: 0.0288 - accuracy: 0.9908\n",
      "Epoch 20/20\n",
      "600/600 [==============================] - 3s 5ms/step - loss: 0.0267 - accuracy: 0.9910\n"
     ]
    },
    {
     "data": {
      "text/plain": [
       "<tensorflow.python.keras.callbacks.History at 0x2751d4bb908>"
      ]
     },
     "execution_count": 38,
     "metadata": {},
     "output_type": "execute_result"
    }
   ],
   "source": [
    "model.fit(X_train, y_train, batch_size = 100, epochs = 20)"
   ]
  },
  {
   "cell_type": "code",
   "execution_count": 39,
   "metadata": {},
   "outputs": [
    {
     "name": "stdout",
     "output_type": "stream",
     "text": [
      "   1/1875 [..............................] - ETA: 1s - loss: 6.7876e-04 - accuracy: 1.0000WARNING:tensorflow:Callbacks method `on_test_batch_end` is slow compared to the batch time (batch time: 0.0010s vs `on_test_batch_end` time: 0.0020s). Check your callbacks.\n",
      "1875/1875 [==============================] - 4s 2ms/step - loss: 0.0037 - accuracy: 0.9992\n",
      "\n",
      "Train CNN Acc:\n",
      " 0.9991833567619324\n",
      "313/313 [==============================] - 1s 3ms/step - loss: 0.0350 - accuracy: 0.9893\n",
      "\n",
      "Test CNN Acc:\n",
      " 0.989300012588501\n"
     ]
    }
   ],
   "source": [
    "    result_train = model.evaluate (X_train, y_train)\n",
    "    print ( '\\nTrain CNN Acc:\\n' , result_train[1])\n",
    "    result_test = model.evaluate (X_test ,y_test)\n",
    "    print ( '\\nTest CNN Acc:\\n' , result_test[1])"
   ]
  }
 ],
 "metadata": {
  "kernelspec": {
   "display_name": "Python 3",
   "language": "python",
   "name": "python3"
  },
  "language_info": {
   "codemirror_mode": {
    "name": "ipython",
    "version": 3
   },
   "file_extension": ".py",
   "mimetype": "text/x-python",
   "name": "python",
   "nbconvert_exporter": "python",
   "pygments_lexer": "ipython3",
   "version": "3.7.9"
  }
 },
 "nbformat": 4,
 "nbformat_minor": 4
}
