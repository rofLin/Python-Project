{
 "cells": [
  {
   "cell_type": "raw",
   "metadata": {},
   "source": [
    "This project want to preliminarily analyze the impact of Wild Rift on AoV.\n",
    "The public test of Wild Rift in Taiwan is 12/8.\n",
    "The public test of Asia Pacific region is 10/27."
   ]
  },
  {
   "cell_type": "code",
   "execution_count": 37,
   "metadata": {},
   "outputs": [],
   "source": [
    "import requests\n",
    "from bs4 import BeautifulSoup as bs4\n",
    "import re\n",
    "import pandas as pd\n",
    "import time"
   ]
  },
  {
   "cell_type": "code",
   "execution_count": 77,
   "metadata": {},
   "outputs": [],
   "source": [
    "def get_article_voice(forum_url, page=1):\n",
    "    \"\"\"爬取文章列表\"\"\"\n",
    "    HEADERS = {'user-agent': 'Mozilla/5.0 (Windows NT 10.0; Win64; x64) AppleWebKit/537.36 (KHTML, like Gecko) Chrome/87.0.4280.88 Safari/537.36'}   \n",
    "    my_params = {'page':page}\n",
    "    page_list = []\n",
    "    r = requests.get(forum_url, headers = HEADERS, params = my_params)\n",
    "    article_voices = []\n",
    "    soup = bs4(r.text, features = 'lxml')\n",
    "    item_blocks = soup.select('table.b-list tr.b-list-item')\n",
    "    for item_block in item_blocks:\n",
    "        title_block = item_block.select_one('.b-list__main__title')\n",
    "        response_block = item_block.select_one('.b-list__count__number')\n",
    "        time_block = item_block.select_one('.b-list__time .b-list__time__edittime')\n",
    "        \n",
    "        article_url = f\"https://forum.gamer.com.tw/{title_block.get('href')}\"\n",
    "        \n",
    "        title = title_block.text\n",
    "        response = response_block.select_one('span:nth-child(1)').get('title')\n",
    "        voice = response_block.select_one('span:nth-child(2)').get('title')\n",
    "        time_ = time_block.text\n",
    "        time_ = re.sub('\\n',\"\",time_)\n",
    "\n",
    "        if response != None:\n",
    "            response = re.findall(r'[\\d,]+',response)\n",
    "        if voice != None:\n",
    "            voice = re.findall(r'[\\d,]+',voice)\n",
    "        \n",
    "        dict = {'title':title, 'response':response, 'voice':voice, 'time':time_}\n",
    "        page_list.append(dict)\n",
    "    df = pd.DataFrame(page_list)\n",
    "    df = df.explode('response').explode('voice')\n",
    "    df = df.replace(regex={'今日':'1/27'}).replace(regex={'昨日':'1/26'})\n",
    "    \n",
    "    time.sleep(0.5)\n",
    "    \n",
    "    return(df)\n"
   ]
  },
  {
   "cell_type": "code",
   "execution_count": 12,
   "metadata": {},
   "outputs": [],
   "source": [
    "# forum_url = \"https://forum.gamer.com.tw/B.php?bsn=30518\"\n",
    "# df2 = get_article_voice(forum_url,2)"
   ]
  },
  {
   "cell_type": "code",
   "execution_count": 110,
   "metadata": {},
   "outputs": [],
   "source": [
    "# d = {}\n",
    "# for i in range(1, 10):\n",
    "#     d[\"df{0}\".format(i)] = \"Hello\"\n",
    "# d"
   ]
  },
  {
   "cell_type": "code",
   "execution_count": 111,
   "metadata": {
    "scrolled": true
   },
   "outputs": [
    {
     "data": {
      "text/html": [
       "<div>\n",
       "<style scoped>\n",
       "    .dataframe tbody tr th:only-of-type {\n",
       "        vertical-align: middle;\n",
       "    }\n",
       "\n",
       "    .dataframe tbody tr th {\n",
       "        vertical-align: top;\n",
       "    }\n",
       "\n",
       "    .dataframe thead th {\n",
       "        text-align: right;\n",
       "    }\n",
       "</style>\n",
       "<table border=\"1\" class=\"dataframe\">\n",
       "  <thead>\n",
       "    <tr style=\"text-align: right;\">\n",
       "      <th></th>\n",
       "      <th>title</th>\n",
       "      <th>response</th>\n",
       "      <th>voice</th>\n",
       "      <th>time</th>\n",
       "    </tr>\n",
       "  </thead>\n",
       "  <tbody>\n",
       "    <tr>\n",
       "      <th>0</th>\n",
       "      <td>【專區】板務建議、問題回報、精華區專區</td>\n",
       "      <td>0</td>\n",
       "      <td>0</td>\n",
       "      <td>1/27 13:46</td>\n",
       "    </tr>\n",
       "    <tr>\n",
       "      <th>1</th>\n",
       "      <td>【集中】集中串及推薦連結傳送門</td>\n",
       "      <td>1</td>\n",
       "      <td>66,133</td>\n",
       "      <td>07/04 20:04</td>\n",
       "    </tr>\n",
       "    <tr>\n",
       "      <th>2</th>\n",
       "      <td>【討論】求求你別送頭 │ 雷雷隊友抱怨討論區</td>\n",
       "      <td>1</td>\n",
       "      <td>63</td>\n",
       "      <td>1/27 21:18</td>\n",
       "    </tr>\n",
       "    <tr>\n",
       "      <th>3</th>\n",
       "      <td>【討論】英雄的萬事屋 │ 新老手兩行簡短發問討論區</td>\n",
       "      <td>8</td>\n",
       "      <td>135</td>\n",
       "      <td>1/27 16:52</td>\n",
       "    </tr>\n",
       "    <tr>\n",
       "      <th>4</th>\n",
       "      <td>【集中】傳說戰友集結 │ 各式活動序號分享區</td>\n",
       "      <td>1</td>\n",
       "      <td>68</td>\n",
       "      <td>1/27 18:11</td>\n",
       "    </tr>\n",
       "    <tr>\n",
       "      <th>...</th>\n",
       "      <td>...</td>\n",
       "      <td>...</td>\n",
       "      <td>...</td>\n",
       "      <td>...</td>\n",
       "    </tr>\n",
       "    <tr>\n",
       "      <th>1105</th>\n",
       "      <td>【討論】克里希的魔法轉盤</td>\n",
       "      <td>79</td>\n",
       "      <td>17,128</td>\n",
       "      <td>10/02 22:26</td>\n",
       "    </tr>\n",
       "    <tr>\n",
       "      <th>1106</th>\n",
       "      <td>【問題】沒有不合適的環境？</td>\n",
       "      <td>12</td>\n",
       "      <td>3,764</td>\n",
       "      <td>10/02 21:36</td>\n",
       "    </tr>\n",
       "    <tr>\n",
       "      <th>1107</th>\n",
       "      <td>【討論】泰國的造型設計大賽-已選出冠軍</td>\n",
       "      <td>28</td>\n",
       "      <td>9,975</td>\n",
       "      <td>10/02 18:51</td>\n",
       "    </tr>\n",
       "    <tr>\n",
       "      <th>1108</th>\n",
       "      <td>首篇已刪</td>\n",
       "      <td>67</td>\n",
       "      <td>5,311</td>\n",
       "      <td>10/02 14:30</td>\n",
       "    </tr>\n",
       "    <tr>\n",
       "      <th>1109</th>\n",
       "      <td>【心得】【HKA TheMan】當年龍馬本人回來了！改版最暴力T1神角，一套就回家！二技能密技</td>\n",
       "      <td>14</td>\n",
       "      <td>7,195</td>\n",
       "      <td>10/02 13:43</td>\n",
       "    </tr>\n",
       "  </tbody>\n",
       "</table>\n",
       "<p>1110 rows × 4 columns</p>\n",
       "</div>"
      ],
      "text/plain": [
       "                                                title response   voice  \\\n",
       "0                                 【專區】板務建議、問題回報、精華區專區        0       0   \n",
       "1                                     【集中】集中串及推薦連結傳送門        1  66,133   \n",
       "2                              【討論】求求你別送頭 │ 雷雷隊友抱怨討論區        1      63   \n",
       "3                           【討論】英雄的萬事屋 │ 新老手兩行簡短發問討論區        8     135   \n",
       "4                              【集中】傳說戰友集結 │ 各式活動序號分享區        1      68   \n",
       "...                                               ...      ...     ...   \n",
       "1105                                     【討論】克里希的魔法轉盤       79  17,128   \n",
       "1106                                    【問題】沒有不合適的環境？       12   3,764   \n",
       "1107                              【討論】泰國的造型設計大賽-已選出冠軍       28   9,975   \n",
       "1108                                             首篇已刪       67   5,311   \n",
       "1109  【心得】【HKA TheMan】當年龍馬本人回來了！改版最暴力T1神角，一套就回家！二技能密技       14   7,195   \n",
       "\n",
       "             time  \n",
       "0      1/27 13:46  \n",
       "1     07/04 20:04  \n",
       "2      1/27 21:18  \n",
       "3      1/27 16:52  \n",
       "4      1/27 18:11  \n",
       "...           ...  \n",
       "1105  10/02 22:26  \n",
       "1106  10/02 21:36  \n",
       "1107  10/02 18:51  \n",
       "1108  10/02 14:30  \n",
       "1109  10/02 13:43  \n",
       "\n",
       "[1110 rows x 4 columns]"
      ]
     },
     "execution_count": 111,
     "metadata": {},
     "output_type": "execute_result"
    }
   ],
   "source": [
    "#%%timeit this would loops many times\n",
    "forum_url = \"https://forum.gamer.com.tw/B.php?bsn=30518\"\n",
    "\n",
    "total_post = pd.DataFrame()\n",
    "\n",
    "for p in range(1,38):\n",
    "    df = get_article_voice(forum_url,p)\n",
    "    total_post = total_post.append(df, ignore_index=True)\n",
    "total_post"
   ]
  },
  {
   "cell_type": "code",
   "execution_count": 112,
   "metadata": {},
   "outputs": [],
   "source": [
    "total_post.to_csv (r'D:\\data science\\side projects\\AoV\\data\\voice_data.csv', index = False, header=True)"
   ]
  },
  {
   "cell_type": "code",
   "execution_count": 155,
   "metadata": {},
   "outputs": [],
   "source": [
    "total_post = pd.read_csv(r'D:\\data science\\side projects\\AoV\\data\\voice_data.csv')"
   ]
  },
  {
   "cell_type": "code",
   "execution_count": 123,
   "metadata": {},
   "outputs": [],
   "source": [
    "total_post = total_post[9:] #去除至頂文章"
   ]
  },
  {
   "cell_type": "code",
   "execution_count": 124,
   "metadata": {},
   "outputs": [],
   "source": [
    "total_post = total_post.reset_index().iloc[:,1:]"
   ]
  },
  {
   "cell_type": "code",
   "execution_count": 116,
   "metadata": {},
   "outputs": [
    {
     "data": {
      "text/plain": [
       "title       object\n",
       "response    object\n",
       "voice       object\n",
       "time        object\n",
       "dtype: object"
      ]
     },
     "execution_count": 116,
     "metadata": {},
     "output_type": "execute_result"
    }
   ],
   "source": [
    "total_post.dtypes"
   ]
  },
  {
   "cell_type": "code",
   "execution_count": 125,
   "metadata": {},
   "outputs": [
    {
     "data": {
      "text/plain": [
       "0   2021-01-27 22:10:00\n",
       "1   2021-01-27 22:09:00\n",
       "2   2021-01-27 21:06:00\n",
       "3   2021-01-27 20:26:00\n",
       "4   2021-01-27 19:42:00\n",
       "Name: time, dtype: datetime64[ns]"
      ]
     },
     "execution_count": 125,
     "metadata": {},
     "output_type": "execute_result"
    }
   ],
   "source": [
    "pd.to_datetime(total_post.head(5)['time'], format = '%m/%d %H:%M').apply(lambda x: x.replace(year = 2021))"
   ]
  },
  {
   "cell_type": "code",
   "execution_count": 126,
   "metadata": {},
   "outputs": [],
   "source": [
    "total_post['time'] = pd.to_datetime(total_post['time'], format = '%m/%d %H:%M')"
   ]
  },
  {
   "cell_type": "code",
   "execution_count": 128,
   "metadata": {},
   "outputs": [
    {
     "data": {
      "text/plain": [
       "0     1900-01-27 22:10:00\n",
       "1     1900-01-27 22:09:00\n",
       "2     1900-01-27 21:06:00\n",
       "3     1900-01-27 20:26:00\n",
       "4     1900-01-27 19:42:00\n",
       "              ...        \n",
       "312   1900-01-01 10:19:00\n",
       "313   1900-01-01 06:29:00\n",
       "314   1900-01-01 03:06:00\n",
       "315   1900-01-01 00:27:00\n",
       "316   1900-01-01 00:10:00\n",
       "Name: time, Length: 317, dtype: datetime64[ns]"
      ]
     },
     "execution_count": 128,
     "metadata": {},
     "output_type": "execute_result"
    }
   ],
   "source": [
    "total_post[total_post['time'].dt.month==1]['time']"
   ]
  },
  {
   "cell_type": "code",
   "execution_count": 139,
   "metadata": {},
   "outputs": [
    {
     "name": "stderr",
     "output_type": "stream",
     "text": [
      "C:\\Users\\aoc32\\anaconda3\\lib\\site-packages\\pandas\\core\\indexing.py:670: SettingWithCopyWarning: \n",
      "A value is trying to be set on a copy of a slice from a DataFrame\n",
      "\n",
      "See the caveats in the documentation: https://pandas.pydata.org/pandas-docs/stable/user_guide/indexing.html#returning-a-view-versus-a-copy\n",
      "  iloc._setitem_with_indexer(indexer, value)\n"
     ]
    }
   ],
   "source": [
    "total_post.iloc[:316].loc['time'] = total_post[:316]['time'].apply(lambda x: x.replace(year = 2021))\n",
    "total_post.iloc[316:].loc['time'] = total_post[316:]['time'].apply(lambda x: x.replace(year = 2020))"
   ]
  },
  {
   "cell_type": "code",
   "execution_count": 146,
   "metadata": {},
   "outputs": [],
   "source": [
    "total_post['voice'] = pd.to_numeric(total_post['voice'].apply(lambda x:x.replace(',','')))\n",
    "total_post['response'] = pd.to_numeric(total_post['response'].apply(lambda x:x.replace(',','')))"
   ]
  },
  {
   "cell_type": "code",
   "execution_count": 147,
   "metadata": {},
   "outputs": [
    {
     "data": {
      "text/plain": [
       "title               object\n",
       "response             int64\n",
       "voice                int64\n",
       "time        datetime64[ns]\n",
       "dtype: object"
      ]
     },
     "execution_count": 147,
     "metadata": {},
     "output_type": "execute_result"
    }
   ],
   "source": [
    "total_post.dtypes"
   ]
  },
  {
   "cell_type": "code",
   "execution_count": 203,
   "metadata": {
    "scrolled": true
   },
   "outputs": [
    {
     "data": {
      "image/png": "[encoded data removed]",
      "text/plain": [
       "<Figure size 432x288 with 1 Axes>"
      ]
     },
     "metadata": {},
     "output_type": "display_data"
    }
   ],
   "source": [
    "import matplotlib.pyplot as plt\n",
    "import seaborn as sns\n",
    "import statsmodels.formula.api as smf\n",
    "%matplotlib inline\n",
    "plt.style.use(\"fivethirtyeight\")\n",
    "\n",
    "plt.scatter(total_post['time'], total_post['voice'], s=2)\n",
    "plt.xlim(pd.Timestamp('2020-10-01'), pd.Timestamp('2021-01-27'))\n",
    "plt.yscale('log')\n",
    "plt.xticks(rotation=270)\n",
    "plt.axvline(x=pd.Timestamp('2020-10-27'), linestyle=':', color = 'red');"
   ]
  },
  {
   "cell_type": "code",
   "execution_count": null,
   "metadata": {},
   "outputs": [],
   "source": [
    "fig = plt.figure()\n",
    "plt.scatter(total_post['time'], total_post['response'], s=2)\n",
    "plt.xlim(pd.Timestamp('2020-10-01'), pd.Timestamp('2021-01-27'))\n",
    "plt.ylim(-50,200)\n",
    "plt.xticks(rotation=270);"
   ]
  },
  {
   "cell_type": "code",
   "execution_count": 174,
   "metadata": {
    "scrolled": true
   },
   "outputs": [
    {
     "data": {
      "text/html": [
       "<div>\n",
       "<style scoped>\n",
       "    .dataframe tbody tr th:only-of-type {\n",
       "        vertical-align: middle;\n",
       "    }\n",
       "\n",
       "    .dataframe tbody tr th {\n",
       "        vertical-align: top;\n",
       "    }\n",
       "\n",
       "    .dataframe thead th {\n",
       "        text-align: right;\n",
       "    }\n",
       "</style>\n",
       "<table border=\"1\" class=\"dataframe\">\n",
       "  <thead>\n",
       "    <tr style=\"text-align: right;\">\n",
       "      <th></th>\n",
       "      <th>title</th>\n",
       "      <th>response</th>\n",
       "      <th>voice</th>\n",
       "      <th>time</th>\n",
       "      <th>threshold</th>\n",
       "    </tr>\n",
       "  </thead>\n",
       "  <tbody>\n",
       "    <tr>\n",
       "      <th>0</th>\n",
       "      <td>【情報】01 / 28（四）伺服器不停機臨時更新公告</td>\n",
       "      <td>10</td>\n",
       "      <td>410</td>\n",
       "      <td>2021-01-27 22:10:00</td>\n",
       "      <td>1</td>\n",
       "    </tr>\n",
       "    <tr>\n",
       "      <th>2</th>\n",
       "      <td>【問題】刀鋒到底要下去了沒</td>\n",
       "      <td>19</td>\n",
       "      <td>2877</td>\n",
       "      <td>2021-01-27 21:06:00</td>\n",
       "      <td>1</td>\n",
       "    </tr>\n",
       "    <tr>\n",
       "      <th>3</th>\n",
       "      <td>【討論】沒了心態,遊戲也不在好玩</td>\n",
       "      <td>41</td>\n",
       "      <td>2558</td>\n",
       "      <td>2021-01-27 20:26:00</td>\n",
       "      <td>1</td>\n",
       "    </tr>\n",
       "    <tr>\n",
       "      <th>5</th>\n",
       "      <td>【心得】這版排位紅方很虧</td>\n",
       "      <td>17</td>\n",
       "      <td>1114</td>\n",
       "      <td>2021-01-27 19:13:00</td>\n",
       "      <td>1</td>\n",
       "    </tr>\n",
       "    <tr>\n",
       "      <th>6</th>\n",
       "      <td>【閒聊】有關愛里 說好的等著被打臉呢？</td>\n",
       "      <td>11</td>\n",
       "      <td>1663</td>\n",
       "      <td>2021-01-27 18:58:00</td>\n",
       "      <td>1</td>\n",
       "    </tr>\n",
       "    <tr>\n",
       "      <th>...</th>\n",
       "      <td>...</td>\n",
       "      <td>...</td>\n",
       "      <td>...</td>\n",
       "      <td>...</td>\n",
       "      <td>...</td>\n",
       "    </tr>\n",
       "    <tr>\n",
       "      <th>1096</th>\n",
       "      <td>【討論】克里希的魔法轉盤</td>\n",
       "      <td>79</td>\n",
       "      <td>17128</td>\n",
       "      <td>2020-10-02 22:26:00</td>\n",
       "      <td>0</td>\n",
       "    </tr>\n",
       "    <tr>\n",
       "      <th>1097</th>\n",
       "      <td>【問題】沒有不合適的環境？</td>\n",
       "      <td>12</td>\n",
       "      <td>3764</td>\n",
       "      <td>2020-10-02 21:36:00</td>\n",
       "      <td>0</td>\n",
       "    </tr>\n",
       "    <tr>\n",
       "      <th>1098</th>\n",
       "      <td>【討論】泰國的造型設計大賽-已選出冠軍</td>\n",
       "      <td>28</td>\n",
       "      <td>9975</td>\n",
       "      <td>2020-10-02 18:51:00</td>\n",
       "      <td>0</td>\n",
       "    </tr>\n",
       "    <tr>\n",
       "      <th>1099</th>\n",
       "      <td>首篇已刪</td>\n",
       "      <td>67</td>\n",
       "      <td>5311</td>\n",
       "      <td>2020-10-02 14:30:00</td>\n",
       "      <td>0</td>\n",
       "    </tr>\n",
       "    <tr>\n",
       "      <th>1100</th>\n",
       "      <td>【心得】【HKA TheMan】當年龍馬本人回來了！改版最暴力T1神角，一套就回家！二技能密技</td>\n",
       "      <td>14</td>\n",
       "      <td>7195</td>\n",
       "      <td>2020-10-02 13:43:00</td>\n",
       "      <td>0</td>\n",
       "    </tr>\n",
       "  </tbody>\n",
       "</table>\n",
       "<p>1087 rows × 5 columns</p>\n",
       "</div>"
      ],
      "text/plain": [
       "                                                title  response  voice  \\\n",
       "0                          【情報】01 / 28（四）伺服器不停機臨時更新公告        10    410   \n",
       "2                                       【問題】刀鋒到底要下去了沒        19   2877   \n",
       "3                                    【討論】沒了心態,遊戲也不在好玩        41   2558   \n",
       "5                                        【心得】這版排位紅方很虧        17   1114   \n",
       "6                                 【閒聊】有關愛里 說好的等著被打臉呢？        11   1663   \n",
       "...                                               ...       ...    ...   \n",
       "1096                                     【討論】克里希的魔法轉盤        79  17128   \n",
       "1097                                    【問題】沒有不合適的環境？        12   3764   \n",
       "1098                              【討論】泰國的造型設計大賽-已選出冠軍        28   9975   \n",
       "1099                                             首篇已刪        67   5311   \n",
       "1100  【心得】【HKA TheMan】當年龍馬本人回來了！改版最暴力T1神角，一套就回家！二技能密技        14   7195   \n",
       "\n",
       "                    time  threshold  \n",
       "0    2021-01-27 22:10:00          1  \n",
       "2    2021-01-27 21:06:00          1  \n",
       "3    2021-01-27 20:26:00          1  \n",
       "5    2021-01-27 19:13:00          1  \n",
       "6    2021-01-27 18:58:00          1  \n",
       "...                  ...        ...  \n",
       "1096 2020-10-02 22:26:00          0  \n",
       "1097 2020-10-02 21:36:00          0  \n",
       "1098 2020-10-02 18:51:00          0  \n",
       "1099 2020-10-02 14:30:00          0  \n",
       "1100 2020-10-02 13:43:00          0  \n",
       "\n",
       "[1087 rows x 5 columns]"
      ]
     },
     "execution_count": 174,
     "metadata": {},
     "output_type": "execute_result"
    }
   ],
   "source": [
    "#RDD design\n",
    "df = total_post[total_post.copy()['response']<=200]\n",
    "rdd_df = df.assign(threshold=(df['time']>=pd.Timestamp('2020-10-27')).astype(int))\n",
    "rdd_df"
   ]
  },
  {
   "cell_type": "code",
   "execution_count": 182,
   "metadata": {},
   "outputs": [],
   "source": [
    "rdd_df['time'] = (rdd_df.copy()['time']-pd.Timestamp('2020-10-27'))/pd.offsets.Day()"
   ]
  },
  {
   "cell_type": "code",
   "execution_count": 183,
   "metadata": {},
   "outputs": [
    {
     "data": {
      "text/html": [
       "<table class=\"simpletable\">\n",
       "<tr>\n",
       "         <td></td>           <th>coef</th>     <th>std err</th>      <th>t</th>      <th>P>|t|</th>  <th>[0.025</th>    <th>0.975]</th>  \n",
       "</tr>\n",
       "<tr>\n",
       "  <th>Intercept</th>      <td>   23.8764</td> <td>    2.047</td> <td>   11.662</td> <td> 0.000</td> <td>   19.859</td> <td>   27.894</td>\n",
       "</tr>\n",
       "<tr>\n",
       "  <th>time</th>           <td>    0.0325</td> <td>    0.077</td> <td>    0.423</td> <td> 0.673</td> <td>   -0.118</td> <td>    0.183</td>\n",
       "</tr>\n",
       "<tr>\n",
       "  <th>threshold</th>      <td>   -5.6239</td> <td>    2.570</td> <td>   -2.189</td> <td> 0.029</td> <td>  -10.666</td> <td>   -0.582</td>\n",
       "</tr>\n",
       "<tr>\n",
       "  <th>time:threshold</th> <td>    0.0198</td> <td>    0.082</td> <td>    0.243</td> <td> 0.808</td> <td>   -0.140</td> <td>    0.180</td>\n",
       "</tr>\n",
       "</table>"
      ],
      "text/plain": [
       "<class 'statsmodels.iolib.table.SimpleTable'>"
      ]
     },
     "execution_count": 183,
     "metadata": {},
     "output_type": "execute_result"
    }
   ],
   "source": [
    "model = smf.wls(\"response~time*threshold\", rdd_df).fit()\n",
    "model.summary().tables[1]"
   ]
  },
  {
   "cell_type": "code",
   "execution_count": 195,
   "metadata": {},
   "outputs": [
    {
     "data": {
      "image/png": "[encoded data removed]",
      "text/plain": [
       "<Figure size 432x288 with 1 Axes>"
      ]
     },
     "metadata": {
      "needs_background": "light"
     },
     "output_type": "display_data"
    }
   ],
   "source": [
    "ax = df.plot.scatter(x=\"time\", y=\"response\", color=\"C0\", s=2)\n",
    "df.assign(predictions=model.fittedvalues).plot(x=\"time\", y=\"predictions\", ax=ax, color=\"C1\")\n",
    "plt.title(\"Regression Discontinuity\")\n",
    "plt.xlim(pd.Timestamp('2020-10-01'), pd.Timestamp('2021-01-27'))\n",
    "plt.ylim(-50,200)\n",
    "plt.xticks(rotation=270)\n",
    "plt.axvline(x=pd.Timestamp('2020-10-27'), linestyle=':', color = 'red');"
   ]
  },
  {
   "cell_type": "markdown",
   "metadata": {},
   "source": [
    "從圖形中我們可以看到voice在threshold前後並無顯著斷點。\n",
    "而response的話，從回歸結果中，我們可以看到time:threshold的p-value極高，代表兩條回歸線並無顯著差距。"
   ]
  }
 ],
 "metadata": {
  "kernelspec": {
   "display_name": "Python 3",
   "language": "python",
   "name": "python3"
  },
  "language_info": {
   "codemirror_mode": {
    "name": "ipython",
    "version": 3
   },
   "file_extension": ".py",
   "mimetype": "text/x-python",
   "name": "python",
   "nbconvert_exporter": "python",
   "pygments_lexer": "ipython3",
   "version": "3.8.3"
  }
 },
 "nbformat": 4,
 "nbformat_minor": 4
}
